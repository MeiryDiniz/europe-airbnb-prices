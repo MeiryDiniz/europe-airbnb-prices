{
  "cells": [
    {
      "cell_type": "markdown",
      "metadata": {
        "id": "0aStgWSO0E0E"
      },
      "source": [
        "# **Airbnb Data Collection**"
      ]
    },
    {
      "cell_type": "markdown",
      "metadata": {
        "id": "1eLEkw5O0ECa"
      },
      "source": [
        "## Objectives\n",
        "\n",
        "* Have data fetched from Kaggle and save as raw data that will be used to develop the project.\n",
        "\n",
        "## Inputs\n",
        "\n",
        "* Have the data inputed using Kaggle Jason file, and then loaded and inspected. \n",
        "\n",
        "## Outputs\n",
        "\n",
        "* Have the dataset that will be used in the analyse process generated.  \n"
      ]
    },
    {
      "cell_type": "markdown",
      "metadata": {
        "id": "9uWZXH9LwoQg"
      },
      "source": [
        "---"
      ]
    },
    {
      "cell_type": "markdown",
      "metadata": {
        "id": "cqP-UeN-z3i2"
      },
      "source": [
        "# Change working directory"
      ]
    },
    {
      "cell_type": "markdown",
      "metadata": {
        "id": "aOGIGS-uz3i2"
      },
      "source": [
        "* Have the working directory changed from its current folder to its parent folder.\n",
        "    + We access the current directory with `os.getcwd()`."
      ]
    },
    {
      "cell_type": "code",
      "execution_count": 1,
      "metadata": {
        "id": "wZfF_j-Bz3i4",
        "outputId": "66943449-1436-4c3d-85c7-b85f9f78349b"
      },
      "outputs": [
        {
          "data": {
            "text/plain": [
              "'/workspace/europe-airbnb-prices/jupyter_notebooks'"
            ]
          },
          "execution_count": 1,
          "metadata": {},
          "output_type": "execute_result"
        }
      ],
      "source": [
        "import os\n",
        "current_dir = os.getcwd()\n",
        "current_dir"
      ]
    },
    {
      "cell_type": "markdown",
      "metadata": {
        "id": "9MWW8E7lz3i7"
      },
      "source": [
        "* Have the parent of the current directory set up as the new current directory.\n",
        "    + `os.path.dirname()` gets the parent directory;\n",
        "    + `os.chir()` defines the new current directory."
      ]
    },
    {
      "cell_type": "code",
      "execution_count": 2,
      "metadata": {
        "id": "TwHsQRWjz3i9",
        "outputId": "86849db3-cd2f-4cc5-ebb8-2d0caafa1a2c"
      },
      "outputs": [
        {
          "name": "stdout",
          "output_type": "stream",
          "text": [
            "You set a new current directory\n"
          ]
        }
      ],
      "source": [
        "os.chdir(os.path.dirname(current_dir))\n",
        "print(\"You set a new current directory\")"
      ]
    },
    {
      "cell_type": "markdown",
      "metadata": {
        "id": "M_xPk_Ijz3i-"
      },
      "source": [
        "* Have the new current directory confirmed."
      ]
    },
    {
      "cell_type": "code",
      "execution_count": 3,
      "metadata": {
        "id": "vz3S-_kjz3jA",
        "outputId": "00b79ae4-75d0-4a96-d193-ac9ef9847ea2"
      },
      "outputs": [
        {
          "data": {
            "text/plain": [
              "'/workspace/europe-airbnb-prices'"
            ]
          },
          "execution_count": 3,
          "metadata": {},
          "output_type": "execute_result"
        }
      ],
      "source": [
        "current_dir = os.getcwd()\n",
        "current_dir"
      ]
    },
    {
      "cell_type": "markdown",
      "metadata": {},
      "source": [
        "---"
      ]
    },
    {
      "cell_type": "markdown",
      "metadata": {},
      "source": [
        "# Loadind and Preparing Data"
      ]
    },
    {
      "cell_type": "markdown",
      "metadata": {},
      "source": [
        "Have data loaded and prepered for the next steps of analysis."
      ]
    },
    {
      "cell_type": "markdown",
      "metadata": {},
      "source": [
        "Install Kaggle package to import data."
      ]
    },
    {
      "cell_type": "code",
      "execution_count": null,
      "metadata": {},
      "outputs": [],
      "source": [
        "pip install kaggle==1.5.12"
      ]
    },
    {
      "cell_type": "markdown",
      "metadata": {},
      "source": [
        "Recognising the **kaggle.jason** file in the session."
      ]
    },
    {
      "cell_type": "code",
      "execution_count": null,
      "metadata": {},
      "outputs": [],
      "source": [
        "import os\n",
        "os.environ['KAGGLE_CONFIG_DIR'] = os.getcwd()\n",
        "! chmod 600 kaggle.json"
      ]
    },
    {
      "cell_type": "markdown",
      "metadata": {},
      "source": [
        "Getting the dataset path from kaggle url."
      ]
    },
    {
      "cell_type": "code",
      "execution_count": null,
      "metadata": {},
      "outputs": [],
      "source": [
        "KaggleDatasetPath = \"cahyaalkahfi/airbnb-european-cities-join\"\n",
        "DestinationFolder = \"inputs/datasets/raw\"\n",
        "! kaggle datasets download -d {KaggleDatasetPath} -p {DestinationFolder}"
      ]
    },
    {
      "cell_type": "markdown",
      "metadata": {},
      "source": [
        "Unzip the downloaded file, then delete the zip file and kaggle.json file."
      ]
    },
    {
      "cell_type": "code",
      "execution_count": null,
      "metadata": {},
      "outputs": [],
      "source": [
        "! unzip {DestinationFolder}/*.zip -d {DestinationFolder} \\\n",
        "  && rm {DestinationFolder}/*.zip \\\n",
        "  && rm kaggle.json"
      ]
    },
    {
      "cell_type": "markdown",
      "metadata": {},
      "source": [
        "Loading data."
      ]
    },
    {
      "cell_type": "code",
      "execution_count": 4,
      "metadata": {},
      "outputs": [
        {
          "data": {
            "text/html": [
              "<div>\n",
              "<style scoped>\n",
              "    .dataframe tbody tr th:only-of-type {\n",
              "        vertical-align: middle;\n",
              "    }\n",
              "\n",
              "    .dataframe tbody tr th {\n",
              "        vertical-align: top;\n",
              "    }\n",
              "\n",
              "    .dataframe thead th {\n",
              "        text-align: right;\n",
              "    }\n",
              "</style>\n",
              "<table border=\"1\" class=\"dataframe\">\n",
              "  <thead>\n",
              "    <tr style=\"text-align: right;\">\n",
              "      <th></th>\n",
              "      <th>realSum</th>\n",
              "      <th>room_type</th>\n",
              "      <th>room_shared</th>\n",
              "      <th>room_private</th>\n",
              "      <th>person_capacity</th>\n",
              "      <th>host_is_superhost</th>\n",
              "      <th>multi</th>\n",
              "      <th>biz</th>\n",
              "      <th>cleanliness_rating</th>\n",
              "      <th>guest_satisfaction_overall</th>\n",
              "      <th>bedrooms</th>\n",
              "      <th>dist</th>\n",
              "      <th>metro_dist</th>\n",
              "      <th>city</th>\n",
              "      <th>weekends</th>\n",
              "    </tr>\n",
              "  </thead>\n",
              "  <tbody>\n",
              "    <tr>\n",
              "      <th>0</th>\n",
              "      <td>319.640053</td>\n",
              "      <td>Private room</td>\n",
              "      <td>False</td>\n",
              "      <td>True</td>\n",
              "      <td>2</td>\n",
              "      <td>False</td>\n",
              "      <td>0</td>\n",
              "      <td>1</td>\n",
              "      <td>9</td>\n",
              "      <td>88</td>\n",
              "      <td>1</td>\n",
              "      <td>4.763360</td>\n",
              "      <td>0.852117</td>\n",
              "      <td>Amsterdam</td>\n",
              "      <td>True</td>\n",
              "    </tr>\n",
              "    <tr>\n",
              "      <th>1</th>\n",
              "      <td>347.995219</td>\n",
              "      <td>Private room</td>\n",
              "      <td>False</td>\n",
              "      <td>True</td>\n",
              "      <td>2</td>\n",
              "      <td>False</td>\n",
              "      <td>0</td>\n",
              "      <td>1</td>\n",
              "      <td>9</td>\n",
              "      <td>87</td>\n",
              "      <td>1</td>\n",
              "      <td>5.748310</td>\n",
              "      <td>3.651591</td>\n",
              "      <td>Amsterdam</td>\n",
              "      <td>True</td>\n",
              "    </tr>\n",
              "    <tr>\n",
              "      <th>2</th>\n",
              "      <td>482.975183</td>\n",
              "      <td>Private room</td>\n",
              "      <td>False</td>\n",
              "      <td>True</td>\n",
              "      <td>4</td>\n",
              "      <td>False</td>\n",
              "      <td>0</td>\n",
              "      <td>1</td>\n",
              "      <td>9</td>\n",
              "      <td>90</td>\n",
              "      <td>2</td>\n",
              "      <td>0.384872</td>\n",
              "      <td>0.439852</td>\n",
              "      <td>Amsterdam</td>\n",
              "      <td>True</td>\n",
              "    </tr>\n",
              "    <tr>\n",
              "      <th>3</th>\n",
              "      <td>485.552926</td>\n",
              "      <td>Private room</td>\n",
              "      <td>False</td>\n",
              "      <td>True</td>\n",
              "      <td>2</td>\n",
              "      <td>True</td>\n",
              "      <td>0</td>\n",
              "      <td>0</td>\n",
              "      <td>10</td>\n",
              "      <td>98</td>\n",
              "      <td>1</td>\n",
              "      <td>0.544723</td>\n",
              "      <td>0.318688</td>\n",
              "      <td>Amsterdam</td>\n",
              "      <td>True</td>\n",
              "    </tr>\n",
              "    <tr>\n",
              "      <th>4</th>\n",
              "      <td>2771.541724</td>\n",
              "      <td>Entire home/apt</td>\n",
              "      <td>False</td>\n",
              "      <td>False</td>\n",
              "      <td>4</td>\n",
              "      <td>True</td>\n",
              "      <td>0</td>\n",
              "      <td>0</td>\n",
              "      <td>10</td>\n",
              "      <td>100</td>\n",
              "      <td>3</td>\n",
              "      <td>1.686798</td>\n",
              "      <td>1.458399</td>\n",
              "      <td>Amsterdam</td>\n",
              "      <td>True</td>\n",
              "    </tr>\n",
              "  </tbody>\n",
              "</table>\n",
              "</div>"
            ],
            "text/plain": [
              "       realSum        room_type  room_shared  room_private  person_capacity  \\\n",
              "0   319.640053     Private room        False          True                2   \n",
              "1   347.995219     Private room        False          True                2   \n",
              "2   482.975183     Private room        False          True                4   \n",
              "3   485.552926     Private room        False          True                2   \n",
              "4  2771.541724  Entire home/apt        False         False                4   \n",
              "\n",
              "   host_is_superhost  multi  biz  cleanliness_rating  \\\n",
              "0              False      0    1                   9   \n",
              "1              False      0    1                   9   \n",
              "2              False      0    1                   9   \n",
              "3               True      0    0                  10   \n",
              "4               True      0    0                  10   \n",
              "\n",
              "   guest_satisfaction_overall  bedrooms      dist  metro_dist       city  \\\n",
              "0                          88         1  4.763360    0.852117  Amsterdam   \n",
              "1                          87         1  5.748310    3.651591  Amsterdam   \n",
              "2                          90         2  0.384872    0.439852  Amsterdam   \n",
              "3                          98         1  0.544723    0.318688  Amsterdam   \n",
              "4                         100         3  1.686798    1.458399  Amsterdam   \n",
              "\n",
              "   weekends  \n",
              "0      True  \n",
              "1      True  \n",
              "2      True  \n",
              "3      True  \n",
              "4      True  "
            ]
          },
          "execution_count": 4,
          "metadata": {},
          "output_type": "execute_result"
        }
      ],
      "source": [
        "import pandas as pd\n",
        "df = pd.read_csv(f\"inputs/datasets/raw/airbnb_european-cities.csv\")\n",
        "df.head()"
      ]
    },
    {
      "cell_type": "markdown",
      "metadata": {},
      "source": [
        "DataFrame Summary "
      ]
    },
    {
      "cell_type": "code",
      "execution_count": 5,
      "metadata": {},
      "outputs": [
        {
          "name": "stdout",
          "output_type": "stream",
          "text": [
            "<class 'pandas.core.frame.DataFrame'>\n",
            "RangeIndex: 51707 entries, 0 to 51706\n",
            "Data columns (total 15 columns):\n",
            " #   Column                      Non-Null Count  Dtype  \n",
            "---  ------                      --------------  -----  \n",
            " 0   realSum                     51707 non-null  float64\n",
            " 1   room_type                   51707 non-null  object \n",
            " 2   room_shared                 51707 non-null  bool   \n",
            " 3   room_private                51707 non-null  bool   \n",
            " 4   person_capacity             51707 non-null  int64  \n",
            " 5   host_is_superhost           51707 non-null  bool   \n",
            " 6   multi                       51707 non-null  int64  \n",
            " 7   biz                         51707 non-null  int64  \n",
            " 8   cleanliness_rating          51707 non-null  int64  \n",
            " 9   guest_satisfaction_overall  51707 non-null  int64  \n",
            " 10  bedrooms                    51707 non-null  int64  \n",
            " 11  dist                        51707 non-null  float64\n",
            " 12  metro_dist                  51707 non-null  float64\n",
            " 13  city                        51707 non-null  object \n",
            " 14  weekends                    51707 non-null  bool   \n",
            "dtypes: bool(4), float64(3), int64(6), object(2)\n",
            "memory usage: 4.5+ MB\n"
          ]
        }
      ],
      "source": [
        "df.info()"
      ]
    },
    {
      "cell_type": "markdown",
      "metadata": {},
      "source": [
        "Have `realSum`, `metro_dist` and `dist` columns name changed to `daily_price`, `metro_dist_km` and `city_center_dist_km` to have a good presentation and understand of the data."
      ]
    },
    {
      "cell_type": "code",
      "execution_count": 6,
      "metadata": {},
      "outputs": [
        {
          "data": {
            "text/html": [
              "<div>\n",
              "<style scoped>\n",
              "    .dataframe tbody tr th:only-of-type {\n",
              "        vertical-align: middle;\n",
              "    }\n",
              "\n",
              "    .dataframe tbody tr th {\n",
              "        vertical-align: top;\n",
              "    }\n",
              "\n",
              "    .dataframe thead th {\n",
              "        text-align: right;\n",
              "    }\n",
              "</style>\n",
              "<table border=\"1\" class=\"dataframe\">\n",
              "  <thead>\n",
              "    <tr style=\"text-align: right;\">\n",
              "      <th></th>\n",
              "      <th>daily_price</th>\n",
              "      <th>room_type</th>\n",
              "      <th>room_shared</th>\n",
              "      <th>room_private</th>\n",
              "      <th>person_capacity</th>\n",
              "      <th>host_is_superhost</th>\n",
              "      <th>multi</th>\n",
              "      <th>biz</th>\n",
              "      <th>cleanliness_rating</th>\n",
              "      <th>guest_satisfaction_overall</th>\n",
              "      <th>bedrooms</th>\n",
              "      <th>city_center_dist_km</th>\n",
              "      <th>metro_dist_km</th>\n",
              "      <th>city</th>\n",
              "      <th>weekends</th>\n",
              "    </tr>\n",
              "  </thead>\n",
              "  <tbody>\n",
              "    <tr>\n",
              "      <th>0</th>\n",
              "      <td>319.640053</td>\n",
              "      <td>Private room</td>\n",
              "      <td>False</td>\n",
              "      <td>True</td>\n",
              "      <td>2</td>\n",
              "      <td>False</td>\n",
              "      <td>0</td>\n",
              "      <td>1</td>\n",
              "      <td>9</td>\n",
              "      <td>88</td>\n",
              "      <td>1</td>\n",
              "      <td>4.763360</td>\n",
              "      <td>0.852117</td>\n",
              "      <td>Amsterdam</td>\n",
              "      <td>True</td>\n",
              "    </tr>\n",
              "    <tr>\n",
              "      <th>1</th>\n",
              "      <td>347.995219</td>\n",
              "      <td>Private room</td>\n",
              "      <td>False</td>\n",
              "      <td>True</td>\n",
              "      <td>2</td>\n",
              "      <td>False</td>\n",
              "      <td>0</td>\n",
              "      <td>1</td>\n",
              "      <td>9</td>\n",
              "      <td>87</td>\n",
              "      <td>1</td>\n",
              "      <td>5.748310</td>\n",
              "      <td>3.651591</td>\n",
              "      <td>Amsterdam</td>\n",
              "      <td>True</td>\n",
              "    </tr>\n",
              "    <tr>\n",
              "      <th>2</th>\n",
              "      <td>482.975183</td>\n",
              "      <td>Private room</td>\n",
              "      <td>False</td>\n",
              "      <td>True</td>\n",
              "      <td>4</td>\n",
              "      <td>False</td>\n",
              "      <td>0</td>\n",
              "      <td>1</td>\n",
              "      <td>9</td>\n",
              "      <td>90</td>\n",
              "      <td>2</td>\n",
              "      <td>0.384872</td>\n",
              "      <td>0.439852</td>\n",
              "      <td>Amsterdam</td>\n",
              "      <td>True</td>\n",
              "    </tr>\n",
              "    <tr>\n",
              "      <th>3</th>\n",
              "      <td>485.552926</td>\n",
              "      <td>Private room</td>\n",
              "      <td>False</td>\n",
              "      <td>True</td>\n",
              "      <td>2</td>\n",
              "      <td>True</td>\n",
              "      <td>0</td>\n",
              "      <td>0</td>\n",
              "      <td>10</td>\n",
              "      <td>98</td>\n",
              "      <td>1</td>\n",
              "      <td>0.544723</td>\n",
              "      <td>0.318688</td>\n",
              "      <td>Amsterdam</td>\n",
              "      <td>True</td>\n",
              "    </tr>\n",
              "    <tr>\n",
              "      <th>4</th>\n",
              "      <td>2771.541724</td>\n",
              "      <td>Entire home/apt</td>\n",
              "      <td>False</td>\n",
              "      <td>False</td>\n",
              "      <td>4</td>\n",
              "      <td>True</td>\n",
              "      <td>0</td>\n",
              "      <td>0</td>\n",
              "      <td>10</td>\n",
              "      <td>100</td>\n",
              "      <td>3</td>\n",
              "      <td>1.686798</td>\n",
              "      <td>1.458399</td>\n",
              "      <td>Amsterdam</td>\n",
              "      <td>True</td>\n",
              "    </tr>\n",
              "  </tbody>\n",
              "</table>\n",
              "</div>"
            ],
            "text/plain": [
              "   daily_price        room_type  room_shared  room_private  person_capacity  \\\n",
              "0   319.640053     Private room        False          True                2   \n",
              "1   347.995219     Private room        False          True                2   \n",
              "2   482.975183     Private room        False          True                4   \n",
              "3   485.552926     Private room        False          True                2   \n",
              "4  2771.541724  Entire home/apt        False         False                4   \n",
              "\n",
              "   host_is_superhost  multi  biz  cleanliness_rating  \\\n",
              "0              False      0    1                   9   \n",
              "1              False      0    1                   9   \n",
              "2              False      0    1                   9   \n",
              "3               True      0    0                  10   \n",
              "4               True      0    0                  10   \n",
              "\n",
              "   guest_satisfaction_overall  bedrooms  city_center_dist_km  metro_dist_km  \\\n",
              "0                          88         1             4.763360       0.852117   \n",
              "1                          87         1             5.748310       3.651591   \n",
              "2                          90         2             0.384872       0.439852   \n",
              "3                          98         1             0.544723       0.318688   \n",
              "4                         100         3             1.686798       1.458399   \n",
              "\n",
              "        city  weekends  \n",
              "0  Amsterdam      True  \n",
              "1  Amsterdam      True  \n",
              "2  Amsterdam      True  \n",
              "3  Amsterdam      True  \n",
              "4  Amsterdam      True  "
            ]
          },
          "execution_count": 6,
          "metadata": {},
          "output_type": "execute_result"
        }
      ],
      "source": [
        "df = df.rename(columns={'realSum' : 'daily_price', 'metro_dist' : 'metro_dist_km', 'dist' : 'city_center_dist_km'})\n",
        "df.head()"
      ]
    },
    {
      "cell_type": "markdown",
      "metadata": {},
      "source": [
        "Have data checked for empty cells."
      ]
    },
    {
      "cell_type": "code",
      "execution_count": 7,
      "metadata": {},
      "outputs": [
        {
          "name": "stdout",
          "output_type": "stream",
          "text": [
            "Empty DataFrame\n",
            "Columns: [daily_price, room_type, room_shared, room_private, person_capacity, host_is_superhost, multi, biz, cleanliness_rating, guest_satisfaction_overall, bedrooms, city_center_dist_km, metro_dist_km, city, weekends]\n",
            "Index: []\n"
          ]
        }
      ],
      "source": [
        "blank_mask = df.isnull() | (df == '')\n",
        "null_or_blank_rows = df[blank_mask.any(axis=1)]\n",
        "print(null_or_blank_rows)"
      ]
    },
    {
      "cell_type": "markdown",
      "metadata": {},
      "source": [
        "Have column names and the values in the DataFrame cleaned up from any leading or trailing spaces."
      ]
    },
    {
      "cell_type": "code",
      "execution_count": 8,
      "metadata": {},
      "outputs": [
        {
          "name": "stdout",
          "output_type": "stream",
          "text": [
            "   daily_price        room_type  room_shared  room_private  person_capacity  \\\n",
            "0   319.640053     Private room        False          True                2   \n",
            "1   347.995219     Private room        False          True                2   \n",
            "2   482.975183     Private room        False          True                4   \n",
            "3   485.552926     Private room        False          True                2   \n",
            "4  2771.541724  Entire home/apt        False         False                4   \n",
            "\n",
            "   host_is_superhost  multi  biz  cleanliness_rating  \\\n",
            "0              False      0    1                   9   \n",
            "1              False      0    1                   9   \n",
            "2              False      0    1                   9   \n",
            "3               True      0    0                  10   \n",
            "4               True      0    0                  10   \n",
            "\n",
            "   guest_satisfaction_overall  bedrooms  city_center_dist_km  metro_dist_km  \\\n",
            "0                          88         1             4.763360       0.852117   \n",
            "1                          87         1             5.748310       3.651591   \n",
            "2                          90         2             0.384872       0.439852   \n",
            "3                          98         1             0.544723       0.318688   \n",
            "4                         100         3             1.686798       1.458399   \n",
            "\n",
            "        city  weekends  \n",
            "0  Amsterdam      True  \n",
            "1  Amsterdam      True  \n",
            "2  Amsterdam      True  \n",
            "3  Amsterdam      True  \n",
            "4  Amsterdam      True  \n"
          ]
        }
      ],
      "source": [
        "# Trim spaces in column names\n",
        "df.columns = df.columns.str.strip()\n",
        "\n",
        "# Trim spaces in all string columns\n",
        "for col in df.select_dtypes(include=['object']).columns:\n",
        "    df[col] = df[col].str.strip()\n",
        "print(df.head())    "
      ]
    },
    {
      "cell_type": "markdown",
      "metadata": {},
      "source": [
        "Have just data that will be used in the analysis selected."
      ]
    },
    {
      "cell_type": "code",
      "execution_count": 9,
      "metadata": {},
      "outputs": [
        {
          "data": {
            "text/html": [
              "<div>\n",
              "<style scoped>\n",
              "    .dataframe tbody tr th:only-of-type {\n",
              "        vertical-align: middle;\n",
              "    }\n",
              "\n",
              "    .dataframe tbody tr th {\n",
              "        vertical-align: top;\n",
              "    }\n",
              "\n",
              "    .dataframe thead th {\n",
              "        text-align: right;\n",
              "    }\n",
              "</style>\n",
              "<table border=\"1\" class=\"dataframe\">\n",
              "  <thead>\n",
              "    <tr style=\"text-align: right;\">\n",
              "      <th></th>\n",
              "      <th>city</th>\n",
              "      <th>bedrooms</th>\n",
              "      <th>room_type</th>\n",
              "      <th>city_center_dist_km</th>\n",
              "      <th>metro_dist_km</th>\n",
              "      <th>daily_price</th>\n",
              "      <th>weekends</th>\n",
              "    </tr>\n",
              "  </thead>\n",
              "  <tbody>\n",
              "    <tr>\n",
              "      <th>0</th>\n",
              "      <td>Amsterdam</td>\n",
              "      <td>1</td>\n",
              "      <td>Private room</td>\n",
              "      <td>4.763360</td>\n",
              "      <td>0.852117</td>\n",
              "      <td>319.640053</td>\n",
              "      <td>True</td>\n",
              "    </tr>\n",
              "    <tr>\n",
              "      <th>1</th>\n",
              "      <td>Amsterdam</td>\n",
              "      <td>1</td>\n",
              "      <td>Private room</td>\n",
              "      <td>5.748310</td>\n",
              "      <td>3.651591</td>\n",
              "      <td>347.995219</td>\n",
              "      <td>True</td>\n",
              "    </tr>\n",
              "    <tr>\n",
              "      <th>2</th>\n",
              "      <td>Amsterdam</td>\n",
              "      <td>2</td>\n",
              "      <td>Private room</td>\n",
              "      <td>0.384872</td>\n",
              "      <td>0.439852</td>\n",
              "      <td>482.975183</td>\n",
              "      <td>True</td>\n",
              "    </tr>\n",
              "    <tr>\n",
              "      <th>3</th>\n",
              "      <td>Amsterdam</td>\n",
              "      <td>1</td>\n",
              "      <td>Private room</td>\n",
              "      <td>0.544723</td>\n",
              "      <td>0.318688</td>\n",
              "      <td>485.552926</td>\n",
              "      <td>True</td>\n",
              "    </tr>\n",
              "    <tr>\n",
              "      <th>4</th>\n",
              "      <td>Amsterdam</td>\n",
              "      <td>3</td>\n",
              "      <td>Entire home/apt</td>\n",
              "      <td>1.686798</td>\n",
              "      <td>1.458399</td>\n",
              "      <td>2771.541724</td>\n",
              "      <td>True</td>\n",
              "    </tr>\n",
              "  </tbody>\n",
              "</table>\n",
              "</div>"
            ],
            "text/plain": [
              "        city  bedrooms        room_type  city_center_dist_km  metro_dist_km  \\\n",
              "0  Amsterdam         1     Private room             4.763360       0.852117   \n",
              "1  Amsterdam         1     Private room             5.748310       3.651591   \n",
              "2  Amsterdam         2     Private room             0.384872       0.439852   \n",
              "3  Amsterdam         1     Private room             0.544723       0.318688   \n",
              "4  Amsterdam         3  Entire home/apt             1.686798       1.458399   \n",
              "\n",
              "   daily_price  weekends  \n",
              "0   319.640053      True  \n",
              "1   347.995219      True  \n",
              "2   482.975183      True  \n",
              "3   485.552926      True  \n",
              "4  2771.541724      True  "
            ]
          },
          "execution_count": 9,
          "metadata": {},
          "output_type": "execute_result"
        }
      ],
      "source": [
        "# Correct columns to select\n",
        "columns_to_select = ['city', 'bedrooms', 'room_type', 'city_center_dist_km', 'metro_dist_km', 'daily_price', 'weekends']\n",
        "\n",
        "# Selecting the existing columns\n",
        "df = df[columns_to_select]\n",
        "df.head()"
      ]
    },
    {
      "cell_type": "markdown",
      "metadata": {},
      "source": [
        "Have data on columns `city_center_dist_km` and `metro_dist_km` displayed with 3 \n",
        "decimals place, and on column `daily_price` with 2 decimals place."
      ]
    },
    {
      "cell_type": "code",
      "execution_count": 10,
      "metadata": {},
      "outputs": [
        {
          "data": {
            "text/html": [
              "<div>\n",
              "<style scoped>\n",
              "    .dataframe tbody tr th:only-of-type {\n",
              "        vertical-align: middle;\n",
              "    }\n",
              "\n",
              "    .dataframe tbody tr th {\n",
              "        vertical-align: top;\n",
              "    }\n",
              "\n",
              "    .dataframe thead th {\n",
              "        text-align: right;\n",
              "    }\n",
              "</style>\n",
              "<table border=\"1\" class=\"dataframe\">\n",
              "  <thead>\n",
              "    <tr style=\"text-align: right;\">\n",
              "      <th></th>\n",
              "      <th>city</th>\n",
              "      <th>bedrooms</th>\n",
              "      <th>room_type</th>\n",
              "      <th>city_center_dist_km</th>\n",
              "      <th>metro_dist_km</th>\n",
              "      <th>daily_price</th>\n",
              "      <th>weekends</th>\n",
              "    </tr>\n",
              "  </thead>\n",
              "  <tbody>\n",
              "    <tr>\n",
              "      <th>0</th>\n",
              "      <td>Amsterdam</td>\n",
              "      <td>1</td>\n",
              "      <td>Private room</td>\n",
              "      <td>4.763</td>\n",
              "      <td>0.852</td>\n",
              "      <td>319.64</td>\n",
              "      <td>True</td>\n",
              "    </tr>\n",
              "    <tr>\n",
              "      <th>1</th>\n",
              "      <td>Amsterdam</td>\n",
              "      <td>1</td>\n",
              "      <td>Private room</td>\n",
              "      <td>5.748</td>\n",
              "      <td>3.652</td>\n",
              "      <td>348.00</td>\n",
              "      <td>True</td>\n",
              "    </tr>\n",
              "    <tr>\n",
              "      <th>2</th>\n",
              "      <td>Amsterdam</td>\n",
              "      <td>2</td>\n",
              "      <td>Private room</td>\n",
              "      <td>0.385</td>\n",
              "      <td>0.440</td>\n",
              "      <td>482.98</td>\n",
              "      <td>True</td>\n",
              "    </tr>\n",
              "    <tr>\n",
              "      <th>3</th>\n",
              "      <td>Amsterdam</td>\n",
              "      <td>1</td>\n",
              "      <td>Private room</td>\n",
              "      <td>0.545</td>\n",
              "      <td>0.319</td>\n",
              "      <td>485.55</td>\n",
              "      <td>True</td>\n",
              "    </tr>\n",
              "    <tr>\n",
              "      <th>4</th>\n",
              "      <td>Amsterdam</td>\n",
              "      <td>3</td>\n",
              "      <td>Entire home/apt</td>\n",
              "      <td>1.687</td>\n",
              "      <td>1.458</td>\n",
              "      <td>2771.54</td>\n",
              "      <td>True</td>\n",
              "    </tr>\n",
              "  </tbody>\n",
              "</table>\n",
              "</div>"
            ],
            "text/plain": [
              "        city  bedrooms        room_type  city_center_dist_km  metro_dist_km  \\\n",
              "0  Amsterdam         1     Private room                4.763          0.852   \n",
              "1  Amsterdam         1     Private room                5.748          3.652   \n",
              "2  Amsterdam         2     Private room                0.385          0.440   \n",
              "3  Amsterdam         1     Private room                0.545          0.319   \n",
              "4  Amsterdam         3  Entire home/apt                1.687          1.458   \n",
              "\n",
              "   daily_price  weekends  \n",
              "0       319.64      True  \n",
              "1       348.00      True  \n",
              "2       482.98      True  \n",
              "3       485.55      True  \n",
              "4      2771.54      True  "
            ]
          },
          "execution_count": 10,
          "metadata": {},
          "output_type": "execute_result"
        }
      ],
      "source": [
        "df['city_center_dist_km'] = df['city_center_dist_km'].round(3)\n",
        "df['metro_dist_km'] = df['metro_dist_km'].round(3)\n",
        "df['daily_price'] = df['daily_price'].round(2)\n",
        "df.head()"
      ]
    },
    {
      "cell_type": "markdown",
      "metadata": {},
      "source": [
        "Have data on column `weekend` converted to integer: **True = 1** and **False = 0**."
      ]
    },
    {
      "cell_type": "code",
      "execution_count": 11,
      "metadata": {},
      "outputs": [
        {
          "data": {
            "text/html": [
              "<div>\n",
              "<style scoped>\n",
              "    .dataframe tbody tr th:only-of-type {\n",
              "        vertical-align: middle;\n",
              "    }\n",
              "\n",
              "    .dataframe tbody tr th {\n",
              "        vertical-align: top;\n",
              "    }\n",
              "\n",
              "    .dataframe thead th {\n",
              "        text-align: right;\n",
              "    }\n",
              "</style>\n",
              "<table border=\"1\" class=\"dataframe\">\n",
              "  <thead>\n",
              "    <tr style=\"text-align: right;\">\n",
              "      <th></th>\n",
              "      <th>city</th>\n",
              "      <th>bedrooms</th>\n",
              "      <th>room_type</th>\n",
              "      <th>city_center_dist_km</th>\n",
              "      <th>metro_dist_km</th>\n",
              "      <th>daily_price</th>\n",
              "      <th>weekends</th>\n",
              "    </tr>\n",
              "  </thead>\n",
              "  <tbody>\n",
              "    <tr>\n",
              "      <th>0</th>\n",
              "      <td>Amsterdam</td>\n",
              "      <td>1</td>\n",
              "      <td>Private room</td>\n",
              "      <td>4.763</td>\n",
              "      <td>0.852</td>\n",
              "      <td>319.64</td>\n",
              "      <td>1</td>\n",
              "    </tr>\n",
              "    <tr>\n",
              "      <th>1</th>\n",
              "      <td>Amsterdam</td>\n",
              "      <td>1</td>\n",
              "      <td>Private room</td>\n",
              "      <td>5.748</td>\n",
              "      <td>3.652</td>\n",
              "      <td>348.00</td>\n",
              "      <td>1</td>\n",
              "    </tr>\n",
              "    <tr>\n",
              "      <th>2</th>\n",
              "      <td>Amsterdam</td>\n",
              "      <td>2</td>\n",
              "      <td>Private room</td>\n",
              "      <td>0.385</td>\n",
              "      <td>0.440</td>\n",
              "      <td>482.98</td>\n",
              "      <td>1</td>\n",
              "    </tr>\n",
              "    <tr>\n",
              "      <th>3</th>\n",
              "      <td>Amsterdam</td>\n",
              "      <td>1</td>\n",
              "      <td>Private room</td>\n",
              "      <td>0.545</td>\n",
              "      <td>0.319</td>\n",
              "      <td>485.55</td>\n",
              "      <td>1</td>\n",
              "    </tr>\n",
              "    <tr>\n",
              "      <th>4</th>\n",
              "      <td>Amsterdam</td>\n",
              "      <td>3</td>\n",
              "      <td>Entire home/apt</td>\n",
              "      <td>1.687</td>\n",
              "      <td>1.458</td>\n",
              "      <td>2771.54</td>\n",
              "      <td>1</td>\n",
              "    </tr>\n",
              "  </tbody>\n",
              "</table>\n",
              "</div>"
            ],
            "text/plain": [
              "        city  bedrooms        room_type  city_center_dist_km  metro_dist_km  \\\n",
              "0  Amsterdam         1     Private room                4.763          0.852   \n",
              "1  Amsterdam         1     Private room                5.748          3.652   \n",
              "2  Amsterdam         2     Private room                0.385          0.440   \n",
              "3  Amsterdam         1     Private room                0.545          0.319   \n",
              "4  Amsterdam         3  Entire home/apt                1.687          1.458   \n",
              "\n",
              "   daily_price  weekends  \n",
              "0       319.64         1  \n",
              "1       348.00         1  \n",
              "2       482.98         1  \n",
              "3       485.55         1  \n",
              "4      2771.54         1  "
            ]
          },
          "execution_count": 11,
          "metadata": {},
          "output_type": "execute_result"
        }
      ],
      "source": [
        "df.weekends = df.weekends.replace({True: 1, False: 0})\n",
        "df.head()"
      ]
    },
    {
      "cell_type": "markdown",
      "metadata": {
        "id": "ZY3l0-AxO93d"
      },
      "source": [
        "---"
      ]
    },
    {
      "cell_type": "markdown",
      "metadata": {
        "id": "ltNetd085qHf"
      },
      "source": [
        "# Pushing File to Repo"
      ]
    },
    {
      "cell_type": "markdown",
      "metadata": {},
      "source": [
        "* Have new folder created to save the DataFrame that will be used in the next steps of the analysis."
      ]
    },
    {
      "cell_type": "code",
      "execution_count": null,
      "metadata": {
        "id": "aKlnIozA4eQO",
        "outputId": "fd09bc1f-adb1-4511-f6ce-492a6af570c0"
      },
      "outputs": [],
      "source": [
        "import os\n",
        "try:\n",
        "  os.makedirs(name='outputs/datasets/collection')\n",
        "except Exception as e:\n",
        "  print(e)\n",
        "\n",
        "df.to_csv(f\"outputs/datasets/collection/EuropeanCitiesAirbnb.csv\",index=False)  \n"
      ]
    },
    {
      "cell_type": "markdown",
      "metadata": {},
      "source": [
        "---"
      ]
    },
    {
      "cell_type": "markdown",
      "metadata": {},
      "source": [
        "# Conclusion"
      ]
    },
    {
      "cell_type": "markdown",
      "metadata": {},
      "source": [
        "In this second step of my analysis, data was collected, stored and processed to be used in the next step of the analysis."
      ]
    },
    {
      "cell_type": "markdown",
      "metadata": {},
      "source": [
        "---"
      ]
    },
    {
      "cell_type": "markdown",
      "metadata": {},
      "source": [
        "# Next Step"
      ]
    },
    {
      "cell_type": "markdown",
      "metadata": {},
      "source": [
        "Have variables and their distribuition checked to finish the data processing step and then start the analysis process."
      ]
    }
  ],
  "metadata": {
    "accelerator": "GPU",
    "colab": {
      "name": "Data Practitioner Jupyter Notebook.ipynb",
      "provenance": [],
      "toc_visible": true
    },
    "interpreter": {
      "hash": "8b8334dab9339717f727a1deaf837b322d7a41c20d15cc86be99a8e69ceec8ce"
    },
    "kernelspec": {
      "display_name": "Python 3.8.12 64-bit ('3.8.12': pyenv)",
      "name": "python3"
    },
    "language_info": {
      "codemirror_mode": {
        "name": "ipython",
        "version": 3
      },
      "file_extension": ".py",
      "mimetype": "text/x-python",
      "name": "python",
      "nbconvert_exporter": "python",
      "pygments_lexer": "ipython3",
      "version": "3.8.18"
    },
    "orig_nbformat": 2
  },
  "nbformat": 4,
  "nbformat_minor": 2
}
