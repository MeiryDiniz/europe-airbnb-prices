{
 "cells": [
  {
   "cell_type": "markdown",
   "metadata": {},
   "source": [
    "# **Airbnb Case 1 Study Notebook**"
   ]
  },
  {
   "cell_type": "markdown",
   "metadata": {},
   "source": [
    "## Objectives\n",
    "\n",
    "* Have the first requirement of my client answered. \n",
    " * The client would like to know what are the three cities with the best average (higher price) daily rental price for an entire house/apt.\n",
    "\n",
    "## Inputs\n",
    "\n",
    "* Use the data processed that was collected from Kaggle `outputs/datasets/collection/AirbnbEuropeanCities.csv`. \n",
    "\n",
    "## Outputs\n",
    "\n",
    "* Have code generated to answer the first requirement of my client.  "
   ]
  },
  {
   "cell_type": "markdown",
   "metadata": {},
   "source": [
    "---"
   ]
  },
  {
   "cell_type": "markdown",
   "metadata": {},
   "source": [
    "# Change working directory"
   ]
  },
  {
   "cell_type": "markdown",
   "metadata": {},
   "source": [
    "Have the working directory changed from its current folder to its parent folder.\n",
    "* We access the current directory with `os.getcwd()`."
   ]
  },
  {
   "cell_type": "code",
   "execution_count": null,
   "metadata": {},
   "outputs": [],
   "source": [
    "import os\n",
    "current_dir = os.getcwd()\n",
    "current_dir"
   ]
  },
  {
   "cell_type": "markdown",
   "metadata": {},
   "source": [
    "Have the parent of the current directory set up as the new current directory.\n",
    "* `os.path.dirname()` gets the parent directory;\n",
    "* `os.chir()` defines the new current directory."
   ]
  },
  {
   "cell_type": "code",
   "execution_count": null,
   "metadata": {},
   "outputs": [],
   "source": [
    "os.chdir(os.path.dirname(current_dir))\n",
    "print(\"You set a new current directory\")"
   ]
  },
  {
   "cell_type": "markdown",
   "metadata": {},
   "source": [
    "Have the new current directory confirmed."
   ]
  },
  {
   "cell_type": "code",
   "execution_count": null,
   "metadata": {},
   "outputs": [],
   "source": [
    "current_dir = os.getcwd()\n",
    "current_dir"
   ]
  },
  {
   "cell_type": "markdown",
   "metadata": {},
   "source": [
    "---"
   ]
  },
  {
   "cell_type": "markdown",
   "metadata": {},
   "source": [
    "# Loading Data "
   ]
  },
  {
   "cell_type": "markdown",
   "metadata": {},
   "source": [
    "Have data loaded for the next steps of the analysis process."
   ]
  },
  {
   "cell_type": "code",
   "execution_count": null,
   "metadata": {},
   "outputs": [],
   "source": [
    "import pandas as pd\n",
    "df = pd.read_csv(f\"outputs/datasets/collection/EuropeanCitiesAirbnb.csv\")\n",
    "df.head(10)"
   ]
  },
  {
   "cell_type": "markdown",
   "metadata": {},
   "source": [
    "---"
   ]
  },
  {
   "cell_type": "markdown",
   "metadata": {},
   "source": [
    "# Data Exploration "
   ]
  },
  {
   "cell_type": "markdown",
   "metadata": {},
   "source": [
    "Before starting the analysis to meet my client's need, I will have variables type and their distribuition checked to become more familiar with the dataset."
   ]
  },
  {
   "cell_type": "code",
   "execution_count": null,
   "metadata": {},
   "outputs": [],
   "source": [
    "from ydata_profiling import ProfileReport\n",
    "pandas_report = ProfileReport(df=df, minimal=True)\n",
    "pandas_report.to_notebook_iframe()"
   ]
  },
  {
   "cell_type": "markdown",
   "metadata": {},
   "source": [
    "---"
   ]
  },
  {
   "cell_type": "markdown",
   "metadata": {},
   "source": [
    "# Processing and Analysing Data"
   ]
  },
  {
   "cell_type": "markdown",
   "metadata": {},
   "source": [
    "### Processing Data"
   ]
  },
  {
   "cell_type": "markdown",
   "metadata": {},
   "source": [
    "After analysing the result of the data exploration, data will be processed to have any errors and inacurances eliminated, so the analysis can be started."
   ]
  },
  {
   "cell_type": "markdown",
   "metadata": {},
   "source": [
    "1. Handling Skewness:\n",
    "\n",
    "    + Applying the logarithm transformation to `daily_price`, so it can help normalize the data, making it easier to be analysed."
   ]
  },
  {
   "cell_type": "code",
   "execution_count": null,
   "metadata": {},
   "outputs": [],
   "source": [
    "import numpy as np\n",
    "df['log_daily_price'] = np.log1p(df['daily_price'])\n",
    "df.head()"
   ]
  },
  {
   "cell_type": "markdown",
   "metadata": {},
   "source": [
    "2. Filtering the Data:\n",
    "\n",
    "    + Have the column `room_type` filtered out, since my client is only interested in entire homes or apartments."
   ]
  },
  {
   "cell_type": "code",
   "execution_count": null,
   "metadata": {},
   "outputs": [],
   "source": [
    "df_filtered = df[df['room_type'] == 'Entire home/apt']\n",
    "df_filtered.head()"
   ]
  },
  {
   "cell_type": "markdown",
   "metadata": {},
   "source": [
    "### Analysing Data"
   ]
  },
  {
   "cell_type": "markdown",
   "metadata": {},
   "source": [
    "1. Calculating the Average Price:\n",
    "\n",
    "    + Have the distribuition of rental prices visualised to identify potencial outliers before making decisions;\n",
    "    + Have the average daily prices calculated;\n",
    "    + Have prices sorted in descending order to find the three best average daily rental prices for weekdays and weekends. In the `weekends` column we have **True = 1** and **False = 0**."
   ]
  },
  {
   "cell_type": "code",
   "execution_count": null,
   "metadata": {},
   "outputs": [],
   "source": [
    "import seaborn as sns\n",
    "import matplotlib.pyplot as plt\n",
    "\n",
    "sns.boxplot(data=df_filtered, x='daily_price')\n",
    "plt.title('Boxplot of Daily Prices')\n",
    "plt.show()"
   ]
  },
  {
   "cell_type": "code",
   "execution_count": null,
   "metadata": {},
   "outputs": [],
   "source": [
    "average_price = df_filtered.groupby(['city', 'weekends'])['daily_price'].mean().reset_index()\n",
    "# Pivot the table to have weekends as columns for more clarity\n",
    "avg_price_pivot = average_price.pivot(index='city', columns='weekends', values='daily_price')\n",
    "# Have average prices sorted in descending order\n",
    "best_prices = avg_price_pivot.sort_values(by=[0,1], ascending=False)\n",
    "print(best_prices)\n"
   ]
  },
  {
   "cell_type": "markdown",
   "metadata": {},
   "source": [
    "> **After analising the box plot chart I could identify some high values for daily prices that could misleading my conclusions, so I decided to run a second code to have the average price calculated where I have values `>=5000` filtered out of my analiysis and then I can compare both results retrieved and conclude if those high values are misleading my conclusions.**"
   ]
  },
  {
   "cell_type": "code",
   "execution_count": null,
   "metadata": {},
   "outputs": [],
   "source": [
    "# Filter the DataFrame to exclude daily prices over 5000\n",
    "filtered_df_avg = df_filtered[df_filtered['daily_price'] <= 5000]\n",
    "average_price2 = filtered_df_avg.groupby(['city', 'weekends'])['daily_price'].mean().reset_index()\n",
    "avg_price_pivot2 = average_price2.pivot(index='city', columns='weekends', values='daily_price')\n",
    "best_prices2 = avg_price_pivot2.sort_values(by=[0, 1], ascending=False)\n",
    "print(best_prices2)"
   ]
  },
  {
   "cell_type": "markdown",
   "metadata": {},
   "source": [
    "2. Correlation Analysis\n",
    "\n",
    "    + **Pearson Correlation** will be analysed to get a sense of linear relationships between price and your features of interest."
   ]
  },
  {
   "cell_type": "code",
   "execution_count": null,
   "metadata": {},
   "outputs": [],
   "source": [
    "# Define the list of cities of interest\n",
    "cities_of_interest = ['Amsterdam', 'Barcelona', 'London']\n",
    "# Filter data to include only the relevant cities and columns of interest\n",
    "relevant_columns = ['daily_price', 'bedrooms', 'city_center_dist_km', 'metro_dist_km', 'weekends', 'city']\n",
    "df_subset = df_filtered[df_filtered['city'].isin(cities_of_interest)][relevant_columns]\n",
    "\n",
    "# Calculate Pearson correlation\n",
    "pearson_correlation = df_subset.corr(method='pearson')\n",
    "price_pearson_corr = pearson_correlation['daily_price'].sort_values(key=abs, ascending=False)[1:]\n",
    "price_pearson_corr"
   ]
  },
  {
   "cell_type": "markdown",
   "metadata": {},
   "source": [
    "3. Spearman Correlation:\n",
    "\n",
    "    + **Spearman correlation** will be analysed to understand any non-linear relationships and account for potential outliers."
   ]
  },
  {
   "cell_type": "code",
   "execution_count": null,
   "metadata": {},
   "outputs": [],
   "source": [
    "# Calculate Spearman correlation\n",
    "spearman_correlation = df_subset.corr(method='spearman')\n",
    "price_spearman_corr = spearman_correlation['daily_price'].sort_values(key=abs, ascending=False)[1:]\n",
    "price_spearman_corr"
   ]
  },
  {
   "cell_type": "markdown",
   "metadata": {},
   "source": [
    "I will consider for my analysis the three best correlation levels of **Pearson** and **Spearman**."
   ]
  },
  {
   "cell_type": "code",
   "execution_count": null,
   "metadata": {},
   "outputs": [],
   "source": [
    "best_corr = 3\n",
    "set(price_pearson_corr[:best_corr].index.to_list() + price_spearman_corr[:best_corr].index.to_list())"
   ]
  },
  {
   "cell_type": "code",
   "execution_count": null,
   "metadata": {},
   "outputs": [],
   "source": [
    "vars_to_analysis = ['bedrooms', 'city_center_dist_km', 'metro_dist_km']\n",
    "vars_to_analysis"
   ]
  },
  {
   "cell_type": "markdown",
   "metadata": {},
   "source": [
    "---"
   ]
  },
  {
   "cell_type": "markdown",
   "metadata": {},
   "source": [
    "# Performing Exploration Data Analysis (EDA) on `vars_to_analysis`"
   ]
  },
  {
   "cell_type": "markdown",
   "metadata": {},
   "source": [
    "1. Data Overview:\n",
    "\n",
    "    + Confirming that there are no hidden `nulls` or `NaNs` outside the displayed counts;\n",
    "    + Have data described to get descriptive statistcs. "
   ]
  },
  {
   "cell_type": "code",
   "execution_count": null,
   "metadata": {},
   "outputs": [],
   "source": [
    "print(df_analysis.isnull().sum())"
   ]
  },
  {
   "cell_type": "code",
   "execution_count": null,
   "metadata": {},
   "outputs": [],
   "source": [
    "df_analysis.describe()"
   ]
  },
  {
   "cell_type": "markdown",
   "metadata": {},
   "source": [
    "2. Data Visualization:\n",
    "\n",
    "    + Charts were created to better interpret the analysis."
   ]
  },
  {
   "cell_type": "markdown",
   "metadata": {},
   "source": [
    "* Histograms charts were used to better understand the numerical variables distribuition."
   ]
  },
  {
   "cell_type": "code",
   "execution_count": null,
   "metadata": {},
   "outputs": [],
   "source": [
    "import seaborn as sns\n",
    "import matplotlib.pyplot as plt\n",
    "variables_to_plot = vars_to_analysis + ['daily_price']\n",
    "df_subset[variables_to_plot].hist(bins=30, figsize=(15, 10), layout=(2, 3))\n",
    "plt.tight_layout()\n",
    "plt.show()"
   ]
  },
  {
   "cell_type": "markdown",
   "metadata": {},
   "source": [
    "* Scatter plot charts were used to explore relationship between `vars_to_analysis` and `daily_price`."
   ]
  },
  {
   "cell_type": "code",
   "execution_count": null,
   "metadata": {},
   "outputs": [],
   "source": [
    "# Loop through each variable in vars_to_analysis\n",
    "for var in vars_to_analysis:\n",
    "    plt.figure(figsize=(10, 6))\n",
    "    plt.scatter(df_subset['daily_price'], df_subset[var], color='blue')\n",
    "    plt.title(f'Scatter Plot of {var.capitalize()} vs. Daily Price')\n",
    "    plt.xlabel('Daily Price')\n",
    "    plt.ylabel(var.capitalize())\n",
    "    plt.grid()\n",
    "    plt.show()"
   ]
  },
  {
   "cell_type": "markdown",
   "metadata": {},
   "source": [
    "+ A bar plot chart was used to visualize the average prices per city differentiated by weekends."
   ]
  },
  {
   "cell_type": "code",
   "execution_count": null,
   "metadata": {},
   "outputs": [],
   "source": [
    "best_prices.plot(kind='bar', figsize=(10, 6), color=['grey', 'coral'])\n",
    "\n",
    "# Adding labels and title\n",
    "plt.title('Average Daily Price by City and Weekend')\n",
    "plt.xlabel('City')\n",
    "plt.ylabel('Average Daily Price')\n",
    "plt.xticks(rotation=45)\n",
    "plt.legend(title='Weekends', labels=['No', 'Yes'])\n",
    "plt.grid(axis='y')\n",
    "plt.show()"
   ]
  },
  {
   "cell_type": "markdown",
   "metadata": {},
   "source": [
    "+ Bar plot charts were used to visualize the average value of `vars_to_analysis` by `city`."
   ]
  },
  {
   "cell_type": "code",
   "execution_count": null,
   "metadata": {},
   "outputs": [],
   "source": [
    "# Loop through each variable in vars_to_analysis\n",
    "colors = ['darkblue', 'grey', 'coral']\n",
    "for var in vars_to_analysis:\n",
    "    # Calculate average for each city for the current variable\n",
    "    average_price = df_subset.groupby('city')[var].mean().reset_index()\n",
    "    # Sort the averages in descending order\n",
    "    average_price = average_price.sort_values(by=var, ascending=False)\n",
    "    # Create a bar plot\n",
    "    plt.figure(figsize=(10, 6))\n",
    "    plt.bar(average_price['city'], average_price[var], color=colors[:len(average_price)])\n",
    "    # Adding labels and title specific to the variable\n",
    "    plt.title(f'{var.capitalize()} Average by City')\n",
    "    plt.xlabel('City')\n",
    "    plt.ylabel(f'Average {var.capitalize()}')\n",
    "    plt.xticks(rotation=45)\n",
    "    plt.grid(axis='y')\n",
    "    plt.show()"
   ]
  },
  {
   "cell_type": "markdown",
   "metadata": {},
   "source": [
    "---"
   ]
  },
  {
   "cell_type": "markdown",
   "metadata": {},
   "source": [
    "# Cloncusion"
   ]
  },
  {
   "cell_type": "markdown",
   "metadata": {},
   "source": [
    "After runing code to have variables type and their distribution checked, average of `daily_price` rent calculated and data visualisation analysed to better interpret the dataset, I can conclude in this step of my analysis that:\n",
    "\n",
    "  + Three alerts were returned for the data exploration, two of them are for `bedrooms` and `weekends` variables. Both variables were analised and them won't cause any misleading to the analysis. The third alert is regarding values of the `daily_price` variable, it is highly skewed (γ1 = 21.41995499). The logarithm transformation was applied to `daily_price`, so it can help to normalize the data;\n",
    "\n",
    "  + Although there are some high values for `daily_price` presented in the dataset, they don't cause any misleading in my conclusion of the three best average prices listing;\n",
    "\n",
    "  + After have `pearson` and `spearman` correlation checked between `daily_prices` and variables available in the dataset, I could conclude that main variables with correlation to the price of airbnb properties are `bedrooms`, `city_center_dist_km` and `metro_dist_km` respectively;\n",
    "  \n",
    "  + Creating visualisation for the dataset helped me to better undesrtand the distribuition of numerical variables to interpret the results of my analysis."
   ]
  }
 ],
 "metadata": {
  "kernelspec": {
   "display_name": "Python 3",
   "language": "python",
   "name": "python3"
  },
  "language_info": {
   "codemirror_mode": {
    "name": "ipython",
    "version": 3
   },
   "file_extension": ".py",
   "mimetype": "text/x-python",
   "name": "python",
   "nbconvert_exporter": "python",
   "pygments_lexer": "ipython3",
   "version": "3.8.18"
  }
 },
 "nbformat": 4,
 "nbformat_minor": 2
}
